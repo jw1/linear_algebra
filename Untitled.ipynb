{
 "cells": [
  {
   "cell_type": "code",
   "execution_count": 2,
   "metadata": {},
   "outputs": [
    {
     "name": "stdout",
     "output_type": "stream",
     "text": [
      "Vector v: [3 4]\n",
      "Magnitude of v: 5.0\n",
      "Vector sum v1 + v2: [4 6]\n",
      "Scaled vector 2 * v1: [2 4]\n",
      "Magnitude of u: 3.7416573867739413\n",
      "Vector sum u + w: [ 5 -2  2]\n"
     ]
    }
   ],
   "source": [
    "\"\"\"\n",
    "# Linear Algebra - Vectors\n",
    "\n",
    "## Introduction to Vectors\n",
    "A vector is an ordered list of numbers, which can represent a point in space, a direction, or any quantity that has both magnitude and direction.\n",
    "\n",
    "Example: A 2D vector: \\( \\mathbf{v} = \\begin{bmatrix} 3 \\\\ 4 \\end{bmatrix} \\)\n",
    "\n",
    "## Defining Vectors in Python\n",
    "We'll use NumPy, a powerful library for numerical computing.\n",
    "\"\"\"\n",
    "\n",
    "import numpy as np\n",
    "\n",
    "# Define a vector\n",
    "v = np.array([3, 4])\n",
    "print(\"Vector v:\", v)\n",
    "\n",
    "# Vector magnitude (length)\n",
    "magnitude = np.linalg.norm(v)\n",
    "print(\"Magnitude of v:\", magnitude)\n",
    "\n",
    "# Vector addition\n",
    "v1 = np.array([1, 2])\n",
    "v2 = np.array([3, 4])\n",
    "sum_vector = v1 + v2\n",
    "print(\"Vector sum v1 + v2:\", sum_vector)\n",
    "\n",
    "# Scalar multiplication\n",
    "scalar = 2\n",
    "scaled_vector = scalar * v1\n",
    "print(\"Scaled vector 2 * v1:\", scaled_vector)\n",
    "\n",
    "\"\"\"\n",
    "## Exercise: Try It Yourself\n",
    "1. Create a 3D vector \\( \\mathbf{u} = \\begin{bmatrix} 1 \\\\ -2 \\\\ 3 \\end{bmatrix} \\)\n",
    "2. Compute its magnitude.\n",
    "3. Perform element-wise addition with another 3D vector \\( \\mathbf{w} = \\begin{bmatrix} 4 \\\\ 0 \\\\ -1 \\end{bmatrix} \\)\n",
    "\n",
    "# Solution\n",
    "\"\"\"\n",
    "\n",
    "# Define 3D vectors\n",
    "u = np.array([1, -2, 3])\n",
    "w = np.array([4, 0, -1])\n",
    "\n",
    "# Compute magnitude\n",
    "magnitude_u = np.linalg.norm(u)\n",
    "print(\"Magnitude of u:\", magnitude_u)\n",
    "\n",
    "# Perform addition\n",
    "sum_uw = u + w\n",
    "print(\"Vector sum u + w:\", sum_uw)\n"
   ]
  },
  {
   "cell_type": "code",
   "execution_count": null,
   "metadata": {},
   "outputs": [],
   "source": []
  }
 ],
 "metadata": {
  "kernelspec": {
   "display_name": "Python 3",
   "language": "python",
   "name": "python3"
  },
  "language_info": {
   "codemirror_mode": {
    "name": "ipython",
    "version": 3
   },
   "file_extension": ".py",
   "mimetype": "text/x-python",
   "name": "python",
   "nbconvert_exporter": "python",
   "pygments_lexer": "ipython3",
   "version": "3.8.3"
  }
 },
 "nbformat": 4,
 "nbformat_minor": 4
}
