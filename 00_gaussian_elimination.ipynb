{
 "cells": [
  {
   "metadata": {},
   "cell_type": "markdown",
   "source": [
    "# Example system of equations (not in upper triangular form):\n",
    "# 2x + y + z = 3\n",
    "# 4x + 5y + 6z = 8\n",
    "# -2x + 5y + 3z = 3"
   ],
   "id": "e346ce1894bec5ad"
  },
  {
   "metadata": {
    "ExecuteTime": {
     "end_time": "2025-03-04T19:53:13.465074Z",
     "start_time": "2025-03-04T19:53:13.455971Z"
    }
   },
   "cell_type": "code",
   "source": [
    "import numpy as np\n",
    "\n",
    "# Coefficient matrix (A) and constant vector (b)\n",
    "A = np.array([[2, 1, 1],\n",
    "              [4, 5, 6],\n",
    "              [-2, 5, 3]], dtype=float)\n",
    "\n",
    "b = np.array([3, 8, 3], dtype=float)\n",
    "\n",
    "# Function for Gaussian elimination\n",
    "def gaussian_elimination(A, b):\n",
    "\n",
    "    n = len(b)\n",
    "\n",
    "    # Augment matrix A with vector b\n",
    "    Ab = np.hstack([A, np.reshape(b, (-1, 1))])\n",
    "\n",
    "\n",
    "    # Forward elimination\n",
    "    for i in range(n):\n",
    "\n",
    "        # pivot function\n",
    "\n",
    "        # find row with biggest element in column i\n",
    "        max_row = np.argmax(np.abs(Ab[i:, i])) + i\n",
    "\n",
    "        # swap rows\n",
    "        # first iteration puts biggest x_1 in first row\n",
    "        # continue through rest of the rows\n",
    "        Ab[[i, max_row]] = Ab[[max_row, i]]  # Swap rows\n",
    "\n",
    "        # Eliminate entries below the pivot\n",
    "        # get the factor required to eliminate the first index\n",
    "        # use list slicing to apply factor to rest of matrix\n",
    "        for j in range(i + 1, n):\n",
    "            factor = Ab[j, i] / Ab[i, i]\n",
    "            Ab[j, i:] -= factor * Ab[i, i:]\n",
    "\n",
    "\n",
    "    # Back substitution\n",
    "    # start from next to last row, work back to front\n",
    "    #\n",
    "    x = np.zeros_like(b, dtype=float)\n",
    "    for i in range(n - 1, -1, -1):\n",
    "        x[i] = (Ab[i, -1] - np.dot(Ab[i, i + 1:n], x[i + 1 :])) / Ab[i, i]\n",
    "\n",
    "    return x\n",
    "\n",
    "# Solve the system using Gaussian elimination followed by back substitution\n",
    "solution = gaussian_elimination(A, b)\n",
    "\n",
    "# Output the solution\n",
    "solution\n"
   ],
   "id": "83df15e5bd866040",
   "outputs": [
    {
     "data": {
      "text/plain": [
       "array([ 1.08333333,  1.33333333, -0.5       ])"
      ]
     },
     "execution_count": 6,
     "metadata": {},
     "output_type": "execute_result"
    }
   ],
   "execution_count": 6
  },
  {
   "metadata": {},
   "cell_type": "code",
   "outputs": [],
   "execution_count": null,
   "source": "",
   "id": "6762c2ecffa2df0a"
  }
 ],
 "metadata": {
  "kernelspec": {
   "name": "python3",
   "language": "python",
   "display_name": "Python 3 (ipykernel)"
  }
 },
 "nbformat": 5,
 "nbformat_minor": 9
}
