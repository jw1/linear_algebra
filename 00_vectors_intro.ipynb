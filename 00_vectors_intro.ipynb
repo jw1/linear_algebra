{
 "cells": [
  {
   "cell_type": "code",
   "metadata": {
    "ExecuteTime": {
     "end_time": "2025-03-04T18:04:35.185733Z",
     "start_time": "2025-03-04T18:04:35.147281Z"
    }
   },
   "source": [
    "\"\"\"\n",
    "# Linear Algebra - Vectors\n",
    "\n",
    "## Introduction to Vectors\n",
    "A vector is an ordered list of numbers, which can represent a point in space, a direction, or any quantity that has both magnitude and direction.\n",
    "\n",
    "Example: A 2D vector: \\( \\mathbf{v} = \\begin{bmatrix} 3 \\\\ 4 \\end{bmatrix} \\)\n",
    "\n",
    "## Defining Vectors in Python\n",
    "We'll use NumPy, a powerful library for numerical computing.\n",
    "\"\"\"\n",
    "\n",
    "import numpy as np\n",
    "\n",
    "# Define a vector\n",
    "v = np.array([3, 4])\n",
    "print(\"Vector v:\", v)\n",
    "\n",
    "# Vector magnitude (length)\n",
    "magnitude = np.linalg.norm(v)\n",
    "print(\"Magnitude of v:\", magnitude)\n",
    "\n",
    "# Vector addition\n",
    "v1 = np.array([1, 2])\n",
    "v2 = np.array([3, 4])\n",
    "sum_vector = v1 + v2\n",
    "print(\"Vector sum v1 + v2:\", sum_vector)\n",
    "\n",
    "# Scalar multiplication\n",
    "scalar = 2\n",
    "scaled_vector = scalar * v1\n",
    "print(\"Scaled vector 2 * v1:\", scaled_vector)\n",
    "\n",
    "\"\"\"\n",
    "## Exercise: Try It Yourself\n",
    "1. Create a 3D vector \\( \\mathbf{u} = \\begin{bmatrix} 1 \\\\ -2 \\\\ 3 \\end{bmatrix} \\)\n",
    "2. Compute its magnitude.\n",
    "3. Perform element-wise addition with another 3D vector \\( \\mathbf{w} = \\begin{bmatrix} 4 \\\\ 0 \\\\ -1 \\end{bmatrix} \\)\n",
    "\n",
    "# Solution\n",
    "\"\"\"\n",
    "\n",
    "# Define 3D vectors\n",
    "u = np.array([1, -2, 3])\n",
    "w = np.array([4, 0, -1])\n",
    "\n",
    "# Compute magnitude\n",
    "magnitude_u = np.linalg.norm(u)\n",
    "print(\"Magnitude of u:\", magnitude_u)\n",
    "\n",
    "# Perform addition\n",
    "sum_uw = u + w\n",
    "print(\"Vector sum u + w:\", sum_uw)\n"
   ],
   "outputs": [
    {
     "name": "stderr",
     "output_type": "stream",
     "text": [
      "<>:1: SyntaxWarning: invalid escape sequence '\\('\n",
      "<>:34: SyntaxWarning: invalid escape sequence '\\('\n",
      "<>:1: SyntaxWarning: invalid escape sequence '\\('\n",
      "<>:34: SyntaxWarning: invalid escape sequence '\\('\n",
      "/var/folders/vc/fg26fm6x1vj6b7b34pcq8dkh0000gn/T/ipykernel_24781/2216237818.py:1: SyntaxWarning: invalid escape sequence '\\('\n",
      "  \"\"\"\n",
      "/var/folders/vc/fg26fm6x1vj6b7b34pcq8dkh0000gn/T/ipykernel_24781/2216237818.py:34: SyntaxWarning: invalid escape sequence '\\('\n",
      "  \"\"\"\n"
     ]
    },
    {
     "ename": "ModuleNotFoundError",
     "evalue": "No module named 'numpy'",
     "output_type": "error",
     "traceback": [
      "\u001B[31m---------------------------------------------------------------------------\u001B[39m",
      "\u001B[31mModuleNotFoundError\u001B[39m                       Traceback (most recent call last)",
      "\u001B[36mCell\u001B[39m\u001B[36m \u001B[39m\u001B[32mIn[2]\u001B[39m\u001B[32m, line 13\u001B[39m\n\u001B[32m      1\u001B[39m \u001B[33;03m\"\"\"\u001B[39;00m\n\u001B[32m      2\u001B[39m \u001B[33;03m# Linear Algebra - Vectors\u001B[39;00m\n\u001B[32m      3\u001B[39m \n\u001B[32m   (...)\u001B[39m\u001B[32m     10\u001B[39m \u001B[33;03mWe'll use NumPy, a powerful library for numerical computing.\u001B[39;00m\n\u001B[32m     11\u001B[39m \u001B[33;03m\"\"\"\u001B[39;00m\n\u001B[32m---> \u001B[39m\u001B[32m13\u001B[39m \u001B[38;5;28;01mimport\u001B[39;00m\u001B[38;5;250m \u001B[39m\u001B[34;01mnumpy\u001B[39;00m\u001B[38;5;250m \u001B[39m\u001B[38;5;28;01mas\u001B[39;00m\u001B[38;5;250m \u001B[39m\u001B[34;01mnp\u001B[39;00m\n\u001B[32m     15\u001B[39m \u001B[38;5;66;03m# Define a vector\u001B[39;00m\n\u001B[32m     16\u001B[39m v = np.array([\u001B[32m3\u001B[39m, \u001B[32m4\u001B[39m])\n",
      "\u001B[31mModuleNotFoundError\u001B[39m: No module named 'numpy'"
     ]
    }
   ],
   "execution_count": 2
  },
  {
   "cell_type": "code",
   "execution_count": null,
   "metadata": {},
   "outputs": [],
   "source": []
  }
 ],
 "metadata": {
  "kernelspec": {
   "display_name": "Python 3",
   "language": "python",
   "name": "python3"
  },
  "language_info": {
   "codemirror_mode": {
    "name": "ipython",
    "version": 3
   },
   "file_extension": ".py",
   "mimetype": "text/x-python",
   "name": "python",
   "nbconvert_exporter": "python",
   "pygments_lexer": "ipython3",
   "version": "3.8.3"
  }
 },
 "nbformat": 4,
 "nbformat_minor": 4
}
