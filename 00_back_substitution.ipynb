{
 "cells": [
  {
   "metadata": {},
   "cell_type": "markdown",
   "source": [
    "## Problem Statement\n",
    "Solve the system of equations:\n",
    "\n",
    "\\\\[\n",
    " \\begin{align}\n",
    " x_1 - 3x_2 = 2 \\\\\n",
    " 2x_2 = 6\n",
    " \\end{align}\n",
    "\\\\]\n",
    "\n",
    "We'll solve this step-by-step in Python."
   ],
   "id": "ac4d0307010a531b"
  },
  {
   "metadata": {
    "ExecuteTime": {
     "end_time": "2025-03-04T18:37:33.029009Z",
     "start_time": "2025-03-04T18:37:33.024877Z"
    }
   },
   "cell_type": "code",
   "source": [
    "# Step 1: Solve for x_2\n",
    "x2 = 6 / 2  # x2 = 3\n",
    "print(\"Step 1: x2 =\", x2)\n",
    "\n",
    "# Step 2: Solve for x_1 by substituting x2 into the first equation\n",
    "x1 = 2 + 3 * x2  # x1 = 11\n",
    "print(\"Step 2: x1 =\", x1)\n"
   ],
   "id": "1dbaa12ced896aaf",
   "outputs": [
    {
     "name": "stdout",
     "output_type": "stream",
     "text": [
      "Step 1: x2 = 3.0\n",
      "Step 2: x1 = 11.0\n"
     ]
    }
   ],
   "execution_count": 6
  },
  {
   "metadata": {},
   "cell_type": "markdown",
   "source": [
    "## Final Answer\n",
    "The solution to the system is:\n",
    "\n",
    "\\\\[\n",
    " x_1 = 11, \\quad x_2 = 3\n",
    "\\\\]"
   ],
   "id": "4ac1abde238d7a07"
  }
 ],
 "metadata": {
  "kernelspec": {
   "name": "python3",
   "language": "python",
   "display_name": "Python 3 (ipykernel)"
  }
 },
 "nbformat": 5,
 "nbformat_minor": 9
}
